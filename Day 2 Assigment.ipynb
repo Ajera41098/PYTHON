{
 "cells": [
  {
   "cell_type": "code",
   "execution_count": 1,
   "metadata": {},
   "outputs": [],
   "source": [
    "# 1) -->>Write a program to find the prime number    \n",
    "\n"
   ]
  },
  {
   "cell_type": "code",
   "execution_count": 2,
   "metadata": {},
   "outputs": [
    {
     "name": "stdout",
     "output_type": "stream",
     "text": [
      "Enter the number upto which you want to find prime numbers : 121\n",
      "All prime numbers upto 121 are\n",
      "2\n",
      "3\n",
      "5\n",
      "7\n",
      "11\n",
      "13\n",
      "17\n",
      "19\n",
      "23\n",
      "29\n",
      "31\n",
      "37\n",
      "41\n",
      "43\n",
      "47\n",
      "53\n",
      "59\n",
      "61\n",
      "67\n",
      "71\n",
      "73\n",
      "79\n",
      "83\n",
      "89\n",
      "97\n",
      "101\n",
      "103\n",
      "107\n",
      "109\n",
      "113\n"
     ]
    }
   ],
   "source": [
    "n = int(input(\"Enter the number upto which you want to find prime numbers : \"))\n",
    "print(\"All prime numbers upto\", n, \"are\")\n",
    "print(2)\n",
    "for num in range(2,n + 1):\n",
    "    i = 2\n",
    "    for i in range(2, num):\n",
    "        if(num % i == 0):\n",
    "            i = num\n",
    "            break\n",
    "    if(i != num):\n",
    "        print(num)"
   ]
  },
  {
   "cell_type": "code",
   "execution_count": 3,
   "metadata": {},
   "outputs": [],
   "source": [
    "# 20-->> Enter a number to program and get the output \"Prime\" or \"Not Prime\""
   ]
  },
  {
   "cell_type": "code",
   "execution_count": 4,
   "metadata": {},
   "outputs": [
    {
     "name": "stdout",
     "output_type": "stream",
     "text": [
      "Enter The Number : 31\n",
      "31 is a Prime number\n"
     ]
    }
   ],
   "source": [
    "num=int(input(\"Enter The Number : \"))\n",
    "if num>1:\n",
    "    for i in range(2,int(num/2)+1):\n",
    "        if num% i==0:\n",
    "            print(num, \"is not a Prime Number\")\n",
    "            break\n",
    "    else:\n",
    "        print(num,\"is a Prime number\")\n",
    "else:\n",
    "    print(num,\"is not a Prime number\")\n",
    "    "
   ]
  },
  {
   "cell_type": "code",
   "execution_count": null,
   "metadata": {},
   "outputs": [],
   "source": []
  }
 ],
 "metadata": {
  "kernelspec": {
   "display_name": "Python 3",
   "language": "python",
   "name": "python3"
  },
  "language_info": {
   "codemirror_mode": {
    "name": "ipython",
    "version": 3
   },
   "file_extension": ".py",
   "mimetype": "text/x-python",
   "name": "python",
   "nbconvert_exporter": "python",
   "pygments_lexer": "ipython3",
   "version": "3.8.5"
  }
 },
 "nbformat": 4,
 "nbformat_minor": 4
}
